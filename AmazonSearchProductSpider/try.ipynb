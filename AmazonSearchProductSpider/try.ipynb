{
 "cells": [
  {
   "cell_type": "code",
   "execution_count": 14,
   "metadata": {},
   "outputs": [
    {
     "name": "stderr",
     "output_type": "stream",
     "text": [
      "2023-02-01 15:24:38 [scrapy.utils.log] INFO: Scrapy 2.6.2 started (bot: scrapybot)\n",
      "2023-02-01 15:24:38 [scrapy.utils.log] INFO: Versions: lxml 4.9.1.0, libxml2 2.9.14, cssselect 1.1.0, parsel 1.6.0, w3lib 1.21.0, Twisted 22.2.0, Python 3.9.13 (main, Aug 25 2022, 23:51:50) [MSC v.1916 64 bit (AMD64)], pyOpenSSL 22.0.0 (OpenSSL 1.1.1q  5 Jul 2022), cryptography 37.0.1, Platform Windows-10-10.0.22621-SP0\n"
     ]
    }
   ],
   "source": [
    "from scrapy.crawler import CrawlerProcess\n",
    "import AmazonSearchProductSpider \n",
    "from scrapy.utils.project import get_project_settings\n",
    "process_1 = CrawlerProcess(settings={\n",
    "    \"FEEDS\": {\n",
    "        \"emails.json\": {\"format\": \"json\"},\n",
    "    },\n",
    "})"
   ]
  },
  {
   "cell_type": "code",
   "execution_count": 15,
   "metadata": {},
   "outputs": [
    {
     "ename": "AttributeError",
     "evalue": "module 'AmazonSearchProductSpider' has no attribute 'update_settings'",
     "output_type": "error",
     "traceback": [
      "\u001b[1;31m---------------------------------------------------------------------------\u001b[0m",
      "\u001b[1;31mAttributeError\u001b[0m                            Traceback (most recent call last)",
      "\u001b[1;32mc:\\Users\\ayush\\OneDrive\\Desktop\\AmazonSearchProductSpider\\try.ipynb Cell 2\u001b[0m in \u001b[0;36m<cell line: 1>\u001b[1;34m()\u001b[0m\n\u001b[1;32m----> <a href='vscode-notebook-cell:/c%3A/Users/ayush/OneDrive/Desktop/AmazonSearchProductSpider/try.ipynb#W6sZmlsZQ%3D%3D?line=0'>1</a>\u001b[0m process_1\u001b[39m.\u001b[39;49mcrawl(AmazonSearchProductSpider)\n\u001b[0;32m      <a href='vscode-notebook-cell:/c%3A/Users/ayush/OneDrive/Desktop/AmazonSearchProductSpider/try.ipynb#W6sZmlsZQ%3D%3D?line=1'>2</a>\u001b[0m process_1\u001b[39m.\u001b[39mstart()\n",
      "File \u001b[1;32mc:\\Users\\ayush\\anaconda3\\lib\\site-packages\\scrapy\\crawler.py:204\u001b[0m, in \u001b[0;36mCrawlerRunner.crawl\u001b[1;34m(self, crawler_or_spidercls, *args, **kwargs)\u001b[0m\n\u001b[0;32m    200\u001b[0m \u001b[39mif\u001b[39;00m \u001b[39misinstance\u001b[39m(crawler_or_spidercls, Spider):\n\u001b[0;32m    201\u001b[0m     \u001b[39mraise\u001b[39;00m \u001b[39mValueError\u001b[39;00m(\n\u001b[0;32m    202\u001b[0m         \u001b[39m'\u001b[39m\u001b[39mThe crawler_or_spidercls argument cannot be a spider object, \u001b[39m\u001b[39m'\u001b[39m\n\u001b[0;32m    203\u001b[0m         \u001b[39m'\u001b[39m\u001b[39mit must be a spider class (or a Crawler object)\u001b[39m\u001b[39m'\u001b[39m)\n\u001b[1;32m--> 204\u001b[0m crawler \u001b[39m=\u001b[39m \u001b[39mself\u001b[39;49m\u001b[39m.\u001b[39;49mcreate_crawler(crawler_or_spidercls)\n\u001b[0;32m    205\u001b[0m \u001b[39mreturn\u001b[39;00m \u001b[39mself\u001b[39m\u001b[39m.\u001b[39m_crawl(crawler, \u001b[39m*\u001b[39margs, \u001b[39m*\u001b[39m\u001b[39m*\u001b[39mkwargs)\n",
      "File \u001b[1;32mc:\\Users\\ayush\\anaconda3\\lib\\site-packages\\scrapy\\crawler.py:237\u001b[0m, in \u001b[0;36mCrawlerRunner.create_crawler\u001b[1;34m(self, crawler_or_spidercls)\u001b[0m\n\u001b[0;32m    235\u001b[0m \u001b[39mif\u001b[39;00m \u001b[39misinstance\u001b[39m(crawler_or_spidercls, Crawler):\n\u001b[0;32m    236\u001b[0m     \u001b[39mreturn\u001b[39;00m crawler_or_spidercls\n\u001b[1;32m--> 237\u001b[0m \u001b[39mreturn\u001b[39;00m \u001b[39mself\u001b[39;49m\u001b[39m.\u001b[39;49m_create_crawler(crawler_or_spidercls)\n",
      "File \u001b[1;32mc:\\Users\\ayush\\anaconda3\\lib\\site-packages\\scrapy\\crawler.py:315\u001b[0m, in \u001b[0;36mCrawlerProcess._create_crawler\u001b[1;34m(self, spidercls)\u001b[0m\n\u001b[0;32m    313\u001b[0m init_reactor \u001b[39m=\u001b[39m \u001b[39mnot\u001b[39;00m \u001b[39mself\u001b[39m\u001b[39m.\u001b[39m_initialized_reactor\n\u001b[0;32m    314\u001b[0m \u001b[39mself\u001b[39m\u001b[39m.\u001b[39m_initialized_reactor \u001b[39m=\u001b[39m \u001b[39mTrue\u001b[39;00m\n\u001b[1;32m--> 315\u001b[0m \u001b[39mreturn\u001b[39;00m Crawler(spidercls, \u001b[39mself\u001b[39;49m\u001b[39m.\u001b[39;49msettings, init_reactor\u001b[39m=\u001b[39;49minit_reactor)\n",
      "File \u001b[1;32mc:\\Users\\ayush\\anaconda3\\lib\\site-packages\\scrapy\\crawler.py:51\u001b[0m, in \u001b[0;36mCrawler.__init__\u001b[1;34m(self, spidercls, settings, init_reactor)\u001b[0m\n\u001b[0;32m     49\u001b[0m \u001b[39mself\u001b[39m\u001b[39m.\u001b[39mspidercls \u001b[39m=\u001b[39m spidercls\n\u001b[0;32m     50\u001b[0m \u001b[39mself\u001b[39m\u001b[39m.\u001b[39msettings \u001b[39m=\u001b[39m settings\u001b[39m.\u001b[39mcopy()\n\u001b[1;32m---> 51\u001b[0m \u001b[39mself\u001b[39;49m\u001b[39m.\u001b[39;49mspidercls\u001b[39m.\u001b[39;49mupdate_settings(\u001b[39mself\u001b[39m\u001b[39m.\u001b[39msettings)\n\u001b[0;32m     53\u001b[0m \u001b[39mself\u001b[39m\u001b[39m.\u001b[39msignals \u001b[39m=\u001b[39m SignalManager(\u001b[39mself\u001b[39m)\n\u001b[0;32m     54\u001b[0m \u001b[39mself\u001b[39m\u001b[39m.\u001b[39mstats \u001b[39m=\u001b[39m load_object(\u001b[39mself\u001b[39m\u001b[39m.\u001b[39msettings[\u001b[39m'\u001b[39m\u001b[39mSTATS_CLASS\u001b[39m\u001b[39m'\u001b[39m])(\u001b[39mself\u001b[39m)\n",
      "\u001b[1;31mAttributeError\u001b[0m: module 'AmazonSearchProductSpider' has no attribute 'update_settings'"
     ]
    }
   ],
   "source": [
    "process_1.crawl(AmazonSearchProductSpider)\n",
    "process_1.start()"
   ]
  },
  {
   "cell_type": "code",
   "execution_count": 7,
   "metadata": {},
   "outputs": [
    {
     "data": {
      "text/plain": [
       "<DeferredList at 0x208486a7e80 current result: []>"
      ]
     },
     "execution_count": 7,
     "metadata": {},
     "output_type": "execute_result"
    }
   ],
   "source": [
    "process_1.stop()"
   ]
  },
  {
   "cell_type": "code",
   "execution_count": 9,
   "metadata": {},
   "outputs": [
    {
     "name": "stderr",
     "output_type": "stream",
     "text": [
      "Unhandled error in Deferred:\n",
      "2023-02-01 15:16:57 [twisted] CRITICAL: Unhandled error in Deferred:\n",
      "\n",
      "Traceback (most recent call last):\n",
      "  File \"c:\\Users\\ayush\\anaconda3\\lib\\site-packages\\scrapy\\crawler.py\", line 205, in crawl\n",
      "    return self._crawl(crawler, *args, **kwargs)\n",
      "  File \"c:\\Users\\ayush\\anaconda3\\lib\\site-packages\\scrapy\\crawler.py\", line 209, in _crawl\n",
      "    d = crawler.crawl(*args, **kwargs)\n",
      "  File \"c:\\Users\\ayush\\anaconda3\\lib\\site-packages\\twisted\\internet\\defer.py\", line 1905, in unwindGenerator\n",
      "    return _cancellableInlineCallbacks(gen)\n",
      "  File \"c:\\Users\\ayush\\anaconda3\\lib\\site-packages\\twisted\\internet\\defer.py\", line 1815, in _cancellableInlineCallbacks\n",
      "    _inlineCallbacks(None, gen, status)\n",
      "--- <exception caught here> ---\n",
      "  File \"c:\\Users\\ayush\\anaconda3\\lib\\site-packages\\twisted\\internet\\defer.py\", line 1660, in _inlineCallbacks\n",
      "    result = current_context.run(gen.send, result)\n",
      "  File \"c:\\Users\\ayush\\anaconda3\\lib\\site-packages\\scrapy\\crawler.py\", line 101, in crawl\n",
      "    self.engine = self._create_engine()\n",
      "  File \"c:\\Users\\ayush\\anaconda3\\lib\\site-packages\\scrapy\\crawler.py\", line 115, in _create_engine\n",
      "    return ExecutionEngine(self, lambda _: self.stop())\n",
      "  File \"c:\\Users\\ayush\\anaconda3\\lib\\site-packages\\scrapy\\core\\engine.py\", line 83, in __init__\n",
      "    self.downloader = downloader_cls(crawler)\n",
      "  File \"c:\\Users\\ayush\\anaconda3\\lib\\site-packages\\scrapy\\core\\downloader\\__init__.py\", line 83, in __init__\n",
      "    self.middleware = DownloaderMiddlewareManager.from_crawler(crawler)\n",
      "  File \"c:\\Users\\ayush\\anaconda3\\lib\\site-packages\\scrapy\\middleware.py\", line 59, in from_crawler\n",
      "    return cls.from_settings(crawler.settings, crawler)\n",
      "  File \"c:\\Users\\ayush\\anaconda3\\lib\\site-packages\\scrapy\\middleware.py\", line 41, in from_settings\n",
      "    mw = create_instance(mwcls, settings, crawler)\n",
      "  File \"c:\\Users\\ayush\\anaconda3\\lib\\site-packages\\scrapy\\utils\\misc.py\", line 166, in create_instance\n",
      "    instance = objcls.from_crawler(crawler, *args, **kwargs)\n",
      "  File \"c:\\Users\\ayush\\anaconda3\\lib\\site-packages\\scrapy_proxy_pool\\middlewares.py\", line 88, in from_crawler\n",
      "    mw = cls(\n",
      "  File \"c:\\Users\\ayush\\anaconda3\\lib\\site-packages\\scrapy_proxy_pool\\middlewares.py\", line 66, in __init__\n",
      "    self.collector = create_collector('proxy-pool', ['http', 'https'], refresh_interval)\n",
      "  File \"c:\\Users\\ayush\\anaconda3\\lib\\site-packages\\proxyscrape\\proxyscrape.py\", line 77, in create_collector\n",
      "    raise CollectorAlreadyDefinedError('{} is already defined as a collector'.format(name))\n",
      "proxyscrape.errors.CollectorAlreadyDefinedError: proxy-pool is already defined as a collector\n",
      "\n",
      "2023-02-01 15:16:57 [twisted] CRITICAL: \n",
      "Traceback (most recent call last):\n",
      "  File \"c:\\Users\\ayush\\anaconda3\\lib\\site-packages\\twisted\\internet\\defer.py\", line 1660, in _inlineCallbacks\n",
      "    result = current_context.run(gen.send, result)\n",
      "  File \"c:\\Users\\ayush\\anaconda3\\lib\\site-packages\\scrapy\\crawler.py\", line 101, in crawl\n",
      "    self.engine = self._create_engine()\n",
      "  File \"c:\\Users\\ayush\\anaconda3\\lib\\site-packages\\scrapy\\crawler.py\", line 115, in _create_engine\n",
      "    return ExecutionEngine(self, lambda _: self.stop())\n",
      "  File \"c:\\Users\\ayush\\anaconda3\\lib\\site-packages\\scrapy\\core\\engine.py\", line 83, in __init__\n",
      "    self.downloader = downloader_cls(crawler)\n",
      "  File \"c:\\Users\\ayush\\anaconda3\\lib\\site-packages\\scrapy\\core\\downloader\\__init__.py\", line 83, in __init__\n",
      "    self.middleware = DownloaderMiddlewareManager.from_crawler(crawler)\n",
      "  File \"c:\\Users\\ayush\\anaconda3\\lib\\site-packages\\scrapy\\middleware.py\", line 59, in from_crawler\n",
      "    return cls.from_settings(crawler.settings, crawler)\n",
      "  File \"c:\\Users\\ayush\\anaconda3\\lib\\site-packages\\scrapy\\middleware.py\", line 41, in from_settings\n",
      "    mw = create_instance(mwcls, settings, crawler)\n",
      "  File \"c:\\Users\\ayush\\anaconda3\\lib\\site-packages\\scrapy\\utils\\misc.py\", line 166, in create_instance\n",
      "    instance = objcls.from_crawler(crawler, *args, **kwargs)\n",
      "  File \"c:\\Users\\ayush\\anaconda3\\lib\\site-packages\\scrapy_proxy_pool\\middlewares.py\", line 88, in from_crawler\n",
      "    mw = cls(\n",
      "  File \"c:\\Users\\ayush\\anaconda3\\lib\\site-packages\\scrapy_proxy_pool\\middlewares.py\", line 66, in __init__\n",
      "    self.collector = create_collector('proxy-pool', ['http', 'https'], refresh_interval)\n",
      "  File \"c:\\Users\\ayush\\anaconda3\\lib\\site-packages\\proxyscrape\\proxyscrape.py\", line 77, in create_collector\n",
      "    raise CollectorAlreadyDefinedError('{} is already defined as a collector'.format(name))\n",
      "proxyscrape.errors.CollectorAlreadyDefinedError: proxy-pool is already defined as a collector\n",
      "2023-02-01 15:16:57 [scrapy.crawler] INFO: Overridden settings:\n",
      "{'BOT_NAME': 'AmazonSearchProductSpider',\n",
      " 'NEWSPIDER_MODULE': 'AmazonSearchProductSpider.spiders',\n",
      " 'ROBOTSTXT_OBEY': True,\n",
      " 'SPIDER_MODULES': ['AmazonSearchProductSpider.spiders']}\n",
      "2023-02-01 15:16:57 [scrapy.extensions.telnet] INFO: Telnet Password: f3e9af7b68899cf4\n",
      "2023-02-01 15:16:57 [scrapy.middleware] INFO: Enabled extensions:\n",
      "['scrapy.extensions.corestats.CoreStats',\n",
      " 'scrapy.extensions.telnet.TelnetConsole',\n",
      " 'scrapy.extensions.logstats.LogStats']\n"
     ]
    }
   ],
   "source": [
    "process_1.crawl('amazon_search_product')\n",
    "process_1.start()"
   ]
  },
  {
   "cell_type": "code",
   "execution_count": 7,
   "metadata": {},
   "outputs": [
    {
     "name": "stderr",
     "output_type": "stream",
     "text": [
      "Unhandled error in Deferred:\n",
      "2023-02-01 15:09:08 [twisted] CRITICAL: Unhandled error in Deferred:\n",
      "\n",
      "Traceback (most recent call last):\n",
      "  File \"c:\\Users\\ayush\\anaconda3\\lib\\site-packages\\scrapy\\crawler.py\", line 205, in crawl\n",
      "    return self._crawl(crawler, *args, **kwargs)\n",
      "  File \"c:\\Users\\ayush\\anaconda3\\lib\\site-packages\\scrapy\\crawler.py\", line 209, in _crawl\n",
      "    d = crawler.crawl(*args, **kwargs)\n",
      "  File \"c:\\Users\\ayush\\anaconda3\\lib\\site-packages\\twisted\\internet\\defer.py\", line 1905, in unwindGenerator\n",
      "    return _cancellableInlineCallbacks(gen)\n",
      "  File \"c:\\Users\\ayush\\anaconda3\\lib\\site-packages\\twisted\\internet\\defer.py\", line 1815, in _cancellableInlineCallbacks\n",
      "    _inlineCallbacks(None, gen, status)\n",
      "--- <exception caught here> ---\n",
      "  File \"c:\\Users\\ayush\\anaconda3\\lib\\site-packages\\twisted\\internet\\defer.py\", line 1660, in _inlineCallbacks\n",
      "    result = current_context.run(gen.send, result)\n",
      "  File \"c:\\Users\\ayush\\anaconda3\\lib\\site-packages\\scrapy\\crawler.py\", line 101, in crawl\n",
      "    self.engine = self._create_engine()\n",
      "  File \"c:\\Users\\ayush\\anaconda3\\lib\\site-packages\\scrapy\\crawler.py\", line 115, in _create_engine\n",
      "    return ExecutionEngine(self, lambda _: self.stop())\n",
      "  File \"c:\\Users\\ayush\\anaconda3\\lib\\site-packages\\scrapy\\core\\engine.py\", line 83, in __init__\n",
      "    self.downloader = downloader_cls(crawler)\n",
      "  File \"c:\\Users\\ayush\\anaconda3\\lib\\site-packages\\scrapy\\core\\downloader\\__init__.py\", line 83, in __init__\n",
      "    self.middleware = DownloaderMiddlewareManager.from_crawler(crawler)\n",
      "  File \"c:\\Users\\ayush\\anaconda3\\lib\\site-packages\\scrapy\\middleware.py\", line 59, in from_crawler\n",
      "    return cls.from_settings(crawler.settings, crawler)\n",
      "  File \"c:\\Users\\ayush\\anaconda3\\lib\\site-packages\\scrapy\\middleware.py\", line 41, in from_settings\n",
      "    mw = create_instance(mwcls, settings, crawler)\n",
      "  File \"c:\\Users\\ayush\\anaconda3\\lib\\site-packages\\scrapy\\utils\\misc.py\", line 166, in create_instance\n",
      "    instance = objcls.from_crawler(crawler, *args, **kwargs)\n",
      "  File \"c:\\Users\\ayush\\anaconda3\\lib\\site-packages\\scrapy_proxy_pool\\middlewares.py\", line 88, in from_crawler\n",
      "    mw = cls(\n",
      "  File \"c:\\Users\\ayush\\anaconda3\\lib\\site-packages\\scrapy_proxy_pool\\middlewares.py\", line 66, in __init__\n",
      "    self.collector = create_collector('proxy-pool', ['http', 'https'], refresh_interval)\n",
      "  File \"c:\\Users\\ayush\\anaconda3\\lib\\site-packages\\proxyscrape\\proxyscrape.py\", line 77, in create_collector\n",
      "    raise CollectorAlreadyDefinedError('{} is already defined as a collector'.format(name))\n",
      "proxyscrape.errors.CollectorAlreadyDefinedError: proxy-pool is already defined as a collector\n",
      "\n",
      "2023-02-01 15:09:08 [twisted] CRITICAL: \n",
      "Traceback (most recent call last):\n",
      "  File \"c:\\Users\\ayush\\anaconda3\\lib\\site-packages\\twisted\\internet\\defer.py\", line 1660, in _inlineCallbacks\n",
      "    result = current_context.run(gen.send, result)\n",
      "  File \"c:\\Users\\ayush\\anaconda3\\lib\\site-packages\\scrapy\\crawler.py\", line 101, in crawl\n",
      "    self.engine = self._create_engine()\n",
      "  File \"c:\\Users\\ayush\\anaconda3\\lib\\site-packages\\scrapy\\crawler.py\", line 115, in _create_engine\n",
      "    return ExecutionEngine(self, lambda _: self.stop())\n",
      "  File \"c:\\Users\\ayush\\anaconda3\\lib\\site-packages\\scrapy\\core\\engine.py\", line 83, in __init__\n",
      "    self.downloader = downloader_cls(crawler)\n",
      "  File \"c:\\Users\\ayush\\anaconda3\\lib\\site-packages\\scrapy\\core\\downloader\\__init__.py\", line 83, in __init__\n",
      "    self.middleware = DownloaderMiddlewareManager.from_crawler(crawler)\n",
      "  File \"c:\\Users\\ayush\\anaconda3\\lib\\site-packages\\scrapy\\middleware.py\", line 59, in from_crawler\n",
      "    return cls.from_settings(crawler.settings, crawler)\n",
      "  File \"c:\\Users\\ayush\\anaconda3\\lib\\site-packages\\scrapy\\middleware.py\", line 41, in from_settings\n",
      "    mw = create_instance(mwcls, settings, crawler)\n",
      "  File \"c:\\Users\\ayush\\anaconda3\\lib\\site-packages\\scrapy\\utils\\misc.py\", line 166, in create_instance\n",
      "    instance = objcls.from_crawler(crawler, *args, **kwargs)\n",
      "  File \"c:\\Users\\ayush\\anaconda3\\lib\\site-packages\\scrapy_proxy_pool\\middlewares.py\", line 88, in from_crawler\n",
      "    mw = cls(\n",
      "  File \"c:\\Users\\ayush\\anaconda3\\lib\\site-packages\\scrapy_proxy_pool\\middlewares.py\", line 66, in __init__\n",
      "    self.collector = create_collector('proxy-pool', ['http', 'https'], refresh_interval)\n",
      "  File \"c:\\Users\\ayush\\anaconda3\\lib\\site-packages\\proxyscrape\\proxyscrape.py\", line 77, in create_collector\n",
      "    raise CollectorAlreadyDefinedError('{} is already defined as a collector'.format(name))\n",
      "proxyscrape.errors.CollectorAlreadyDefinedError: proxy-pool is already defined as a collector\n",
      "Unhandled error in Deferred:\n",
      "2023-02-01 15:09:08 [twisted] CRITICAL: Unhandled error in Deferred:\n",
      "\n",
      "Traceback (most recent call last):\n",
      "  File \"c:\\Users\\ayush\\anaconda3\\lib\\site-packages\\scrapy\\crawler.py\", line 205, in crawl\n",
      "    return self._crawl(crawler, *args, **kwargs)\n",
      "  File \"c:\\Users\\ayush\\anaconda3\\lib\\site-packages\\scrapy\\crawler.py\", line 209, in _crawl\n",
      "    d = crawler.crawl(*args, **kwargs)\n",
      "  File \"c:\\Users\\ayush\\anaconda3\\lib\\site-packages\\twisted\\internet\\defer.py\", line 1905, in unwindGenerator\n",
      "    return _cancellableInlineCallbacks(gen)\n",
      "  File \"c:\\Users\\ayush\\anaconda3\\lib\\site-packages\\twisted\\internet\\defer.py\", line 1815, in _cancellableInlineCallbacks\n",
      "    _inlineCallbacks(None, gen, status)\n",
      "--- <exception caught here> ---\n",
      "  File \"c:\\Users\\ayush\\anaconda3\\lib\\site-packages\\twisted\\internet\\defer.py\", line 1660, in _inlineCallbacks\n",
      "    result = current_context.run(gen.send, result)\n",
      "  File \"c:\\Users\\ayush\\anaconda3\\lib\\site-packages\\scrapy\\crawler.py\", line 101, in crawl\n",
      "    self.engine = self._create_engine()\n",
      "  File \"c:\\Users\\ayush\\anaconda3\\lib\\site-packages\\scrapy\\crawler.py\", line 115, in _create_engine\n",
      "    return ExecutionEngine(self, lambda _: self.stop())\n",
      "  File \"c:\\Users\\ayush\\anaconda3\\lib\\site-packages\\scrapy\\core\\engine.py\", line 83, in __init__\n",
      "    self.downloader = downloader_cls(crawler)\n",
      "  File \"c:\\Users\\ayush\\anaconda3\\lib\\site-packages\\scrapy\\core\\downloader\\__init__.py\", line 83, in __init__\n",
      "    self.middleware = DownloaderMiddlewareManager.from_crawler(crawler)\n",
      "  File \"c:\\Users\\ayush\\anaconda3\\lib\\site-packages\\scrapy\\middleware.py\", line 59, in from_crawler\n",
      "    return cls.from_settings(crawler.settings, crawler)\n",
      "  File \"c:\\Users\\ayush\\anaconda3\\lib\\site-packages\\scrapy\\middleware.py\", line 41, in from_settings\n",
      "    mw = create_instance(mwcls, settings, crawler)\n",
      "  File \"c:\\Users\\ayush\\anaconda3\\lib\\site-packages\\scrapy\\utils\\misc.py\", line 166, in create_instance\n",
      "    instance = objcls.from_crawler(crawler, *args, **kwargs)\n",
      "  File \"c:\\Users\\ayush\\anaconda3\\lib\\site-packages\\scrapy_proxy_pool\\middlewares.py\", line 88, in from_crawler\n",
      "    mw = cls(\n",
      "  File \"c:\\Users\\ayush\\anaconda3\\lib\\site-packages\\scrapy_proxy_pool\\middlewares.py\", line 66, in __init__\n",
      "    self.collector = create_collector('proxy-pool', ['http', 'https'], refresh_interval)\n",
      "  File \"c:\\Users\\ayush\\anaconda3\\lib\\site-packages\\proxyscrape\\proxyscrape.py\", line 77, in create_collector\n",
      "    raise CollectorAlreadyDefinedError('{} is already defined as a collector'.format(name))\n",
      "proxyscrape.errors.CollectorAlreadyDefinedError: proxy-pool is already defined as a collector\n",
      "\n",
      "2023-02-01 15:09:08 [twisted] CRITICAL: \n",
      "Traceback (most recent call last):\n",
      "  File \"c:\\Users\\ayush\\anaconda3\\lib\\site-packages\\twisted\\internet\\defer.py\", line 1660, in _inlineCallbacks\n",
      "    result = current_context.run(gen.send, result)\n",
      "  File \"c:\\Users\\ayush\\anaconda3\\lib\\site-packages\\scrapy\\crawler.py\", line 101, in crawl\n",
      "    self.engine = self._create_engine()\n",
      "  File \"c:\\Users\\ayush\\anaconda3\\lib\\site-packages\\scrapy\\crawler.py\", line 115, in _create_engine\n",
      "    return ExecutionEngine(self, lambda _: self.stop())\n",
      "  File \"c:\\Users\\ayush\\anaconda3\\lib\\site-packages\\scrapy\\core\\engine.py\", line 83, in __init__\n",
      "    self.downloader = downloader_cls(crawler)\n",
      "  File \"c:\\Users\\ayush\\anaconda3\\lib\\site-packages\\scrapy\\core\\downloader\\__init__.py\", line 83, in __init__\n",
      "    self.middleware = DownloaderMiddlewareManager.from_crawler(crawler)\n",
      "  File \"c:\\Users\\ayush\\anaconda3\\lib\\site-packages\\scrapy\\middleware.py\", line 59, in from_crawler\n",
      "    return cls.from_settings(crawler.settings, crawler)\n",
      "  File \"c:\\Users\\ayush\\anaconda3\\lib\\site-packages\\scrapy\\middleware.py\", line 41, in from_settings\n",
      "    mw = create_instance(mwcls, settings, crawler)\n",
      "  File \"c:\\Users\\ayush\\anaconda3\\lib\\site-packages\\scrapy\\utils\\misc.py\", line 166, in create_instance\n",
      "    instance = objcls.from_crawler(crawler, *args, **kwargs)\n",
      "  File \"c:\\Users\\ayush\\anaconda3\\lib\\site-packages\\scrapy_proxy_pool\\middlewares.py\", line 88, in from_crawler\n",
      "    mw = cls(\n",
      "  File \"c:\\Users\\ayush\\anaconda3\\lib\\site-packages\\scrapy_proxy_pool\\middlewares.py\", line 66, in __init__\n",
      "    self.collector = create_collector('proxy-pool', ['http', 'https'], refresh_interval)\n",
      "  File \"c:\\Users\\ayush\\anaconda3\\lib\\site-packages\\proxyscrape\\proxyscrape.py\", line 77, in create_collector\n",
      "    raise CollectorAlreadyDefinedError('{} is already defined as a collector'.format(name))\n",
      "proxyscrape.errors.CollectorAlreadyDefinedError: proxy-pool is already defined as a collector\n"
     ]
    },
    {
     "ename": "ParserError",
     "evalue": "Error tokenizing data. C error: Expected 42 fields in line 4, saw 43\n",
     "output_type": "error",
     "traceback": [
      "\u001b[1;31m---------------------------------------------------------------------------\u001b[0m",
      "\u001b[1;31mParserError\u001b[0m                               Traceback (most recent call last)",
      "\u001b[1;32mc:\\Users\\ayush\\OneDrive\\Desktop\\AmazonSearchProductSpider\\try.ipynb Cell 3\u001b[0m in \u001b[0;36m<cell line: 2>\u001b[1;34m()\u001b[0m\n\u001b[0;32m      <a href='vscode-notebook-cell:/c%3A/Users/ayush/OneDrive/Desktop/AmazonSearchProductSpider/try.ipynb#W0sZmlsZQ%3D%3D?line=0'>1</a>\u001b[0m \u001b[39mimport\u001b[39;00m \u001b[39mpandas\u001b[39;00m \u001b[39mas\u001b[39;00m \u001b[39mpd\u001b[39;00m\n\u001b[1;32m----> <a href='vscode-notebook-cell:/c%3A/Users/ayush/OneDrive/Desktop/AmazonSearchProductSpider/try.ipynb#W0sZmlsZQ%3D%3D?line=1'>2</a>\u001b[0m df \u001b[39m=\u001b[39mpd\u001b[39m.\u001b[39;49mread_csv(\u001b[39m\"\u001b[39;49m\u001b[39mbrand_items.csv\u001b[39;49m\u001b[39m\"\u001b[39;49m)\n\u001b[0;32m      <a href='vscode-notebook-cell:/c%3A/Users/ayush/OneDrive/Desktop/AmazonSearchProductSpider/try.ipynb#W0sZmlsZQ%3D%3D?line=2'>3</a>\u001b[0m df\u001b[39m.\u001b[39minfo()\n",
      "File \u001b[1;32m~\\AppData\\Roaming\\Python\\Python39\\site-packages\\pandas\\io\\parsers.py:610\u001b[0m, in \u001b[0;36mread_csv\u001b[1;34m(filepath_or_buffer, sep, delimiter, header, names, index_col, usecols, squeeze, prefix, mangle_dupe_cols, dtype, engine, converters, true_values, false_values, skipinitialspace, skiprows, skipfooter, nrows, na_values, keep_default_na, na_filter, verbose, skip_blank_lines, parse_dates, infer_datetime_format, keep_date_col, date_parser, dayfirst, cache_dates, iterator, chunksize, compression, thousands, decimal, lineterminator, quotechar, quoting, doublequote, escapechar, comment, encoding, dialect, error_bad_lines, warn_bad_lines, delim_whitespace, low_memory, memory_map, float_precision, storage_options)\u001b[0m\n\u001b[0;32m    605\u001b[0m kwds_defaults \u001b[39m=\u001b[39m _refine_defaults_read(\n\u001b[0;32m    606\u001b[0m     dialect, delimiter, delim_whitespace, engine, sep, defaults\u001b[39m=\u001b[39m{\u001b[39m\"\u001b[39m\u001b[39mdelimiter\u001b[39m\u001b[39m\"\u001b[39m: \u001b[39m\"\u001b[39m\u001b[39m,\u001b[39m\u001b[39m\"\u001b[39m}\n\u001b[0;32m    607\u001b[0m )\n\u001b[0;32m    608\u001b[0m kwds\u001b[39m.\u001b[39mupdate(kwds_defaults)\n\u001b[1;32m--> 610\u001b[0m \u001b[39mreturn\u001b[39;00m _read(filepath_or_buffer, kwds)\n",
      "File \u001b[1;32m~\\AppData\\Roaming\\Python\\Python39\\site-packages\\pandas\\io\\parsers.py:468\u001b[0m, in \u001b[0;36m_read\u001b[1;34m(filepath_or_buffer, kwds)\u001b[0m\n\u001b[0;32m    465\u001b[0m     \u001b[39mreturn\u001b[39;00m parser\n\u001b[0;32m    467\u001b[0m \u001b[39mwith\u001b[39;00m parser:\n\u001b[1;32m--> 468\u001b[0m     \u001b[39mreturn\u001b[39;00m parser\u001b[39m.\u001b[39;49mread(nrows)\n",
      "File \u001b[1;32m~\\AppData\\Roaming\\Python\\Python39\\site-packages\\pandas\\io\\parsers.py:1057\u001b[0m, in \u001b[0;36mTextFileReader.read\u001b[1;34m(self, nrows)\u001b[0m\n\u001b[0;32m   1055\u001b[0m \u001b[39mdef\u001b[39;00m \u001b[39mread\u001b[39m(\u001b[39mself\u001b[39m, nrows\u001b[39m=\u001b[39m\u001b[39mNone\u001b[39;00m):\n\u001b[0;32m   1056\u001b[0m     nrows \u001b[39m=\u001b[39m validate_integer(\u001b[39m\"\u001b[39m\u001b[39mnrows\u001b[39m\u001b[39m\"\u001b[39m, nrows)\n\u001b[1;32m-> 1057\u001b[0m     index, columns, col_dict \u001b[39m=\u001b[39m \u001b[39mself\u001b[39;49m\u001b[39m.\u001b[39;49m_engine\u001b[39m.\u001b[39;49mread(nrows)\n\u001b[0;32m   1059\u001b[0m     \u001b[39mif\u001b[39;00m index \u001b[39mis\u001b[39;00m \u001b[39mNone\u001b[39;00m:\n\u001b[0;32m   1060\u001b[0m         \u001b[39mif\u001b[39;00m col_dict:\n\u001b[0;32m   1061\u001b[0m             \u001b[39m# Any column is actually fine:\u001b[39;00m\n",
      "File \u001b[1;32m~\\AppData\\Roaming\\Python\\Python39\\site-packages\\pandas\\io\\parsers.py:2061\u001b[0m, in \u001b[0;36mCParserWrapper.read\u001b[1;34m(self, nrows)\u001b[0m\n\u001b[0;32m   2059\u001b[0m \u001b[39mdef\u001b[39;00m \u001b[39mread\u001b[39m(\u001b[39mself\u001b[39m, nrows\u001b[39m=\u001b[39m\u001b[39mNone\u001b[39;00m):\n\u001b[0;32m   2060\u001b[0m     \u001b[39mtry\u001b[39;00m:\n\u001b[1;32m-> 2061\u001b[0m         data \u001b[39m=\u001b[39m \u001b[39mself\u001b[39;49m\u001b[39m.\u001b[39;49m_reader\u001b[39m.\u001b[39;49mread(nrows)\n\u001b[0;32m   2062\u001b[0m     \u001b[39mexcept\u001b[39;00m \u001b[39mStopIteration\u001b[39;00m:\n\u001b[0;32m   2063\u001b[0m         \u001b[39mif\u001b[39;00m \u001b[39mself\u001b[39m\u001b[39m.\u001b[39m_first_chunk:\n",
      "File \u001b[1;32mc:\\Users\\ayush\\anaconda3\\lib\\site-packages\\pandas\\_libs\\parsers.pyx:756\u001b[0m, in \u001b[0;36mpandas._libs.parsers.TextReader.read\u001b[1;34m()\u001b[0m\n",
      "File \u001b[1;32mc:\\Users\\ayush\\anaconda3\\lib\\site-packages\\pandas\\_libs\\parsers.pyx:771\u001b[0m, in \u001b[0;36mpandas._libs.parsers.TextReader._read_low_memory\u001b[1;34m()\u001b[0m\n",
      "File \u001b[1;32mc:\\Users\\ayush\\anaconda3\\lib\\site-packages\\pandas\\_libs\\parsers.pyx:827\u001b[0m, in \u001b[0;36mpandas._libs.parsers.TextReader._read_rows\u001b[1;34m()\u001b[0m\n",
      "File \u001b[1;32mc:\\Users\\ayush\\anaconda3\\lib\\site-packages\\pandas\\_libs\\parsers.pyx:814\u001b[0m, in \u001b[0;36mpandas._libs.parsers.TextReader._tokenize_rows\u001b[1;34m()\u001b[0m\n",
      "File \u001b[1;32mc:\\Users\\ayush\\anaconda3\\lib\\site-packages\\pandas\\_libs\\parsers.pyx:1951\u001b[0m, in \u001b[0;36mpandas._libs.parsers.raise_parser_error\u001b[1;34m()\u001b[0m\n",
      "\u001b[1;31mParserError\u001b[0m: Error tokenizing data. C error: Expected 42 fields in line 4, saw 43\n"
     ]
    }
   ],
   "source": [
    "import pandas as pd\n",
    "df =pd.read_csv(\"brand_items.csv\")\n",
    "df.info()"
   ]
  },
  {
   "cell_type": "code",
   "execution_count": 16,
   "metadata": {},
   "outputs": [
    {
     "data": {
      "text/plain": [
       "(276, 276)"
      ]
     },
     "execution_count": 16,
     "metadata": {},
     "output_type": "execute_result"
    }
   ],
   "source": [
    "len(df['product_asin'].unique()),len(df['product_url'].unique())"
   ]
  },
  {
   "cell_type": "code",
   "execution_count": 14,
   "metadata": {},
   "outputs": [
    {
     "data": {
      "text/plain": [
       "[2, 3, 4, 5, 6, 7]"
      ]
     },
     "execution_count": 14,
     "metadata": {},
     "output_type": "execute_result"
    }
   ],
   "source": [
    "[pg for pg in range(2,7+1)]"
   ]
  },
  {
   "cell_type": "code",
   "execution_count": 17,
   "metadata": {},
   "outputs": [
    {
     "data": {
      "text/plain": [
       "['https://m.media-amazon.com/images/I/41eEmvj7PpL.jpg',\n",
       " 'https://m.media-amazon.com/images/I/41ulbrimHHL.jpg',\n",
       " 'https://m.media-amazon.com/images/I/41bkmjJRxmL.jpg',\n",
       " 'https://m.media-amazon.com/images/I/5120S-JV7DL.jpg',\n",
       " 'https://m.media-amazon.com/images/I/41twpEhmw4L.jpg',\n",
       " 'https://m.media-amazon.com/images/I/51sAhxB0bQL.jpg',\n",
       " 'https://images-na.ssl-images-amazon.com/images/G/01/x-locale/common/transparent-pixel.gif']"
      ]
     },
     "execution_count": 17,
     "metadata": {},
     "output_type": "execute_result"
    }
   ],
   "source": [
    "[clean_links(i) for i in lis]"
   ]
  },
  {
   "cell_type": "code",
   "execution_count": null,
   "metadata": {},
   "outputs": [],
   "source": []
  }
 ],
 "metadata": {
  "kernelspec": {
   "display_name": "base",
   "language": "python",
   "name": "python3"
  },
  "language_info": {
   "codemirror_mode": {
    "name": "ipython",
    "version": 3
   },
   "file_extension": ".py",
   "mimetype": "text/x-python",
   "name": "python",
   "nbconvert_exporter": "python",
   "pygments_lexer": "ipython3",
   "version": "3.9.13 (main, Aug 25 2022, 23:51:50) [MSC v.1916 64 bit (AMD64)]"
  },
  "orig_nbformat": 4,
  "vscode": {
   "interpreter": {
    "hash": "0467c16d4e73dba61dcc106221b4b7c95372fa61fc6cc648ee99bca30bbaf279"
   }
  }
 },
 "nbformat": 4,
 "nbformat_minor": 2
}
